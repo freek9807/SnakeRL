{
 "cells": [
  {
   "cell_type": "markdown",
   "metadata": {},
   "source": [
    "# SnakeRL\n",
    "\n",
    "The aim of this work is to develop an AI that can play Snake."
   ]
  },
  {
   "cell_type": "code",
   "execution_count": 1,
   "metadata": {
    "colab": {
     "base_uri": "https://localhost:8080/",
     "height": 288
    },
    "id": "IuIryoLSeyTj",
    "outputId": "a5f33180-c359-4956-e6ca-6a53ec04f7c9"
   },
   "outputs": [
    {
     "name": "stderr",
     "output_type": "stream",
     "text": [
      "2021-11-15 17:43:07.790311: W tensorflow/stream_executor/platform/default/dso_loader.cc:64] Could not load dynamic library 'libcudart.so.11.0'; dlerror: libcudart.so.11.0: cannot open shared object file: No such file or directory\n",
      "2021-11-15 17:43:07.790327: I tensorflow/stream_executor/cuda/cudart_stub.cc:29] Ignore above cudart dlerror if you do not have a GPU set up on your machine.\n"
     ]
    },
    {
     "name": "stdout",
     "output_type": "stream",
     "text": [
      "2.6.0\n"
     ]
    },
    {
     "data": {
      "image/png": "[encoded data removed]",
      "text/plain": [
       "<Figure size 432x288 with 1 Axes>"
      ]
     },
     "metadata": {
      "needs_background": "light"
     },
     "output_type": "display_data"
    }
   ],
   "source": [
    "%matplotlib inline\n",
    "import tensorflow as tf\n",
    "from tensorflow.keras import datasets, layers, models\n",
    "import matplotlib.pyplot as plt\n",
    "from game import Snake\n",
    "import numpy as np\n",
    "import cv2\n",
    "import random\n",
    "from numpy import zeros, newaxis\n",
    "from tqdm import tqdm\n",
    "from IPython.display import clear_output\n",
    "import matplotlib.pyplot as plt\n",
    "from matplotlib.pyplot import figure\n",
    "from matplotlib import rcParams\n",
    "\n",
    "print(tf.__version__)\n",
    "\n",
    "field_w = 12\n",
    "field_h = 12\n",
    "scale_percent = 40\n",
    "\n",
    "game = Snake(field_w, field_h)\n",
    "\n",
    "plt.imshow(game.generate_image(scale_percent=scale_percent))\n",
    "plt.show()\n",
    "plt.style.use('seaborn')"
   ]
  },
  {
   "cell_type": "markdown",
   "metadata": {},
   "source": [
    "# Hyperparameters"
   ]
  },
  {
   "cell_type": "code",
   "execution_count": 2,
   "metadata": {
    "id": "mNi-9dOP1xCu"
   },
   "outputs": [],
   "source": [
    "epsilon = 0.99\n",
    "learning_rate = 0.01\n",
    "#learning_rate = 0.00025\n",
    "epsilon_min = 0.01\n",
    "width = game.generate_image().shape[0]\n",
    "height = game.generate_image().shape[1]\n",
    "batch_size = 32\n",
    "gamma = 0.99\n",
    "update_every_frame =  4\n",
    "num_actions = 4\n",
    "update_target_network = 10000\n",
    "num_episodes = 100000\n",
    "frame_count = 0"
   ]
  },
  {
   "cell_type": "markdown",
   "metadata": {},
   "source": [
    "# Replay Memory"
   ]
  },
  {
   "cell_type": "code",
   "execution_count": 3,
   "metadata": {
    "id": "pjnR_eBoxM37"
   },
   "outputs": [],
   "source": [
    "from collections import deque\n",
    "\n",
    "class ReplayMemory(object):\n",
    "\n",
    "    def __init__(self, capacity):\n",
    "        self.memory = deque([],maxlen=capacity)\n",
    "\n",
    "    def push(self, value):\n",
    "        \"\"\"Save a transition\"\"\"\n",
    "        self.memory.append(value)\n",
    "\n",
    "    def sample(self, batch_size):\n",
    "        return random.sample(self.memory, batch_size)\n",
    "\n",
    "    def __len__(self):\n",
    "        return len(self.memory)"
   ]
  },
  {
   "cell_type": "markdown",
   "metadata": {},
   "source": [
    "# Network\n",
    "\n",
    "I used Huber as loss function and Adam as optimizer."
   ]
  },
  {
   "cell_type": "code",
   "execution_count": 4,
   "metadata": {
    "colab": {
     "base_uri": "https://localhost:8080/"
    },
    "id": "h6CUwJxuyEd5",
    "outputId": "f440720a-5d48-48f8-94f6-3abef11c40e5"
   },
   "outputs": [
    {
     "name": "stdout",
     "output_type": "stream",
     "text": [
      "(2, 12, 12)\n"
     ]
    }
   ],
   "source": [
    "input_1 = [game.generate_image().reshape(width, height)]\n",
    "input_2 = [game.generate_image().reshape(width, height)]\n",
    "input_3 = [game.generate_image().reshape(width, height)]\n",
    "input_4 = [game.generate_image().reshape(width, height)]\n",
    "input_shape = np.vstack((input_1, input_2)).shape\n",
    "\n",
    "loss_function = tf.keras.losses.Huber()\n",
    "optimizer = tf.keras.optimizers.Adam(learning_rate=0.00025, clipnorm=1.0)\n",
    "\n",
    "print(input_shape)\n",
    "\n",
    "def create_model():\n",
    "  model = models.Sequential()\n",
    "  model.add(layers.Conv2D(48, (3, 3), activation='relu',padding='same', input_shape=input_shape))\n",
    "  model.add(layers.BatchNormalization())\n",
    "  model.add(layers.MaxPooling2D((2, 2)))\n",
    "  model.add(layers.Conv2D(128, (3, 3), activation='relu',padding='same'))\n",
    "  model.add(layers.BatchNormalization())\n",
    "  model.add(layers.MaxPooling2D((2, 2),padding='same'))\n",
    "  model.add(layers.Conv2D(192, (2, 2), activation='relu',padding='same'))\n",
    "  model.add(layers.BatchNormalization())\n",
    "  model.add(layers.MaxPooling2D((2, 2),padding='same'))\n",
    "  model.add(layers.BatchNormalization())\n",
    "  model.add(layers.Flatten())\n",
    "  model.add(layers.Dropout(0.4))\n",
    "  model.add(layers.Dense(258, activation='relu'))\n",
    "  model.add(layers.Dropout(0.4))\n",
    "  model.add(layers.Dense(258, activation='relu'))\n",
    "  model.add(layers.Dropout(0.4))\n",
    "  model.add(layers.BatchNormalization())\n",
    "  model.add(layers.Dense(4, activation='linear'))\n",
    "  #model.compile(loss=loss_function, optimizer=optimizer)\n",
    "  return model"
   ]
  },
  {
   "cell_type": "code",
   "execution_count": 5,
   "metadata": {
    "colab": {
     "base_uri": "https://localhost:8080/"
    },
    "id": "cnuK1LSt0dbw",
    "outputId": "f16af019-abef-4b27-ddda-57d1f1a26312"
   },
   "outputs": [
    {
     "name": "stdout",
     "output_type": "stream",
     "text": [
      "Model: \"sequential\"\n",
      "_________________________________________________________________\n",
      "Layer (type)                 Output Shape              Param #   \n",
      "=================================================================\n",
      "conv2d (Conv2D)              (None, 2, 12, 48)         5232      \n",
      "_________________________________________________________________\n",
      "batch_normalization (BatchNo (None, 2, 12, 48)         192       \n",
      "_________________________________________________________________\n",
      "max_pooling2d (MaxPooling2D) (None, 1, 6, 48)          0         \n",
      "_________________________________________________________________\n",
      "conv2d_1 (Conv2D)            (None, 1, 6, 128)         55424     \n",
      "_________________________________________________________________\n",
      "batch_normalization_1 (Batch (None, 1, 6, 128)         512       \n",
      "_________________________________________________________________\n",
      "max_pooling2d_1 (MaxPooling2 (None, 1, 3, 128)         0         \n",
      "_________________________________________________________________\n",
      "conv2d_2 (Conv2D)            (None, 1, 3, 192)         98496     \n",
      "_________________________________________________________________\n",
      "batch_normalization_2 (Batch (None, 1, 3, 192)         768       \n",
      "_________________________________________________________________\n",
      "max_pooling2d_2 (MaxPooling2 (None, 1, 2, 192)         0         \n",
      "_________________________________________________________________\n",
      "batch_normalization_3 (Batch (None, 1, 2, 192)         768       \n",
      "_________________________________________________________________\n",
      "flatten (Flatten)            (None, 384)               0         \n",
      "_________________________________________________________________\n",
      "dropout (Dropout)            (None, 384)               0         \n",
      "_________________________________________________________________\n",
      "dense (Dense)                (None, 258)               99330     \n",
      "_________________________________________________________________\n",
      "dropout_1 (Dropout)          (None, 258)               0         \n",
      "_________________________________________________________________\n",
      "dense_1 (Dense)              (None, 258)               66822     \n",
      "_________________________________________________________________\n",
      "dropout_2 (Dropout)          (None, 258)               0         \n",
      "_________________________________________________________________\n",
      "batch_normalization_4 (Batch (None, 258)               1032      \n",
      "_________________________________________________________________\n",
      "dense_2 (Dense)              (None, 4)                 1036      \n",
      "=================================================================\n",
      "Total params: 329,612\n",
      "Trainable params: 327,976\n",
      "Non-trainable params: 1,636\n",
      "_________________________________________________________________\n"
     ]
    },
    {
     "name": "stderr",
     "output_type": "stream",
     "text": [
      "2021-11-15 17:43:08.772359: E tensorflow/stream_executor/cuda/cuda_driver.cc:271] failed call to cuInit: CUDA_ERROR_COMPAT_NOT_SUPPORTED_ON_DEVICE: forward compatibility was attempted on non supported HW\n",
      "2021-11-15 17:43:08.772384: I tensorflow/stream_executor/cuda/cuda_diagnostics.cc:169] retrieving CUDA diagnostic information for host: terrasauro2\n",
      "2021-11-15 17:43:08.772389: I tensorflow/stream_executor/cuda/cuda_diagnostics.cc:176] hostname: terrasauro2\n",
      "2021-11-15 17:43:08.772439: I tensorflow/stream_executor/cuda/cuda_diagnostics.cc:200] libcuda reported version is: 460.91.3\n",
      "2021-11-15 17:43:08.772456: I tensorflow/stream_executor/cuda/cuda_diagnostics.cc:204] kernel reported version is: 450.119.3\n",
      "2021-11-15 17:43:08.772461: E tensorflow/stream_executor/cuda/cuda_diagnostics.cc:313] kernel version 450.119.3 does not match DSO version 460.91.3 -- cannot find working devices in this configuration\n",
      "2021-11-15 17:43:08.772833: I tensorflow/core/platform/cpu_feature_guard.cc:142] This TensorFlow binary is optimized with oneAPI Deep Neural Network Library (oneDNN) to use the following CPU instructions in performance-critical operations:  AVX2 FMA\n",
      "To enable them in other operations, rebuild TensorFlow with the appropriate compiler flags.\n"
     ]
    }
   ],
   "source": [
    "memory = ReplayMemory(100000)\n",
    "av_fun = create_model()\n",
    "target_av_fun = create_model()\n",
    "target_av_fun.set_weights(av_fun.get_weights())\n",
    "av_fun.summary()"
   ]
  },
  {
   "cell_type": "markdown",
   "metadata": {},
   "source": [
    "# Training"
   ]
  },
  {
   "cell_type": "code",
   "execution_count": 6,
   "metadata": {
    "colab": {
     "base_uri": "https://localhost:8080/"
    },
    "id": "Pch0hBiz2Mrq",
    "outputId": "1c21b5fb-a71c-473e-dc51-5ef185fc52a0",
    "scrolled": true
   },
   "outputs": [
    {
     "data": {
      "image/png": "[encoded data removed]",
      "text/plain": [
       "<Figure size 864x720 with 6 Axes>"
      ]
     },
     "metadata": {},
     "output_type": "display_data"
    },
    {
     "name": "stderr",
     "output_type": "stream",
     "text": [
      "100%|███████████████████████████████| 100000/100000 [130:43:46<00:00,  4.71s/it]\n"
     ]
    }
   ],
   "source": [
    "rewards_ep = 0\n",
    "score_ep = []\n",
    "general_score = []\n",
    "max_score_local_tot = []\n",
    "running_reward = 0\n",
    "running_score = 0\n",
    "episode_count = 0\n",
    "episode_reward_history = []\n",
    "reward_history_tot = []\n",
    "max_score_tot = []\n",
    "score_history_tot = []\n",
    "ep_history_tot = []\n",
    "frame_history_tot = []\n",
    "general_max_history_tot = []\n",
    "\n",
    "for i in tqdm(range(0, num_episodes)):\n",
    "  env = Snake(field_w, field_h)\n",
    "  st_1 = [env.generate_image().reshape(width, height)]\n",
    "  st_2 = [env.generate_image().reshape(width, height)]\n",
    "  st_3 = [env.generate_image().reshape(width, height)]\n",
    "  st_4 = [env.generate_image().reshape(width, height)]\n",
    "  input_shape = np.vstack((st_1, st_2, st_3, st_4))\n",
    "  rewards = 0\n",
    "  episode_reward = 0\n",
    "  # Play the game\n",
    "  while not env.end:\n",
    "    frame_count += 1\n",
    "    st_1 = st_2\n",
    "    st_2 = st_3 \n",
    "    st_3 = st_4\n",
    "    st_4 = [env.generate_image().reshape(width, height)]\n",
    "    st = np.vstack((st_1, st_2, st_3, st_4))\n",
    "    if np.random.rand() < epsilon:\n",
    "      action = random.randrange(4)\n",
    "    else:\n",
    "      action = np.argmax(av_fun.predict(np.array( [st,] ))[0]) \n",
    "    epsilon = max(epsilon * 0.9, epsilon_min)\n",
    "    next_state, reward, done = env.next_move(action + 37)\n",
    "    rewards += reward\n",
    "    episode_reward += reward\n",
    "    next_state_op = np.vstack((st_2, st_3, st_4, [next_state.reshape(width, height)]))\n",
    "    memory.push((st, action, reward, next_state_op, done))\n",
    "    \n",
    "    if frame_count % update_every_frame == 0 and len(memory) > batch_size:\n",
    "      minibatch = memory.sample(batch_size)\n",
    "      state_sample = np.array([value[0] for value in minibatch])\n",
    "      action_sample = [value[1] for value in minibatch]\n",
    "      rewards_sample = [value[2] for value in minibatch]\n",
    "      next_state_sample = np.array([value[3] for value in minibatch])\n",
    "      done_sample = np.array([float(value[4]) for value in minibatch])\n",
    "      future_rewards = target_av_fun.predict(next_state_sample)\n",
    "      updated_q_values = rewards_sample + gamma * tf.reduce_max(future_rewards, axis=1)\n",
    "      updated_q_values = updated_q_values * (1 - done_sample) - done_sample\n",
    "      masks = tf.one_hot(action_sample, num_actions)\n",
    "\n",
    "      with tf.GradientTape() as tape:\n",
    "          # Train the model on the states and updated Q-values\n",
    "          q_values = av_fun(state_sample)\n",
    "\n",
    "          # Apply the masks to the Q-values to get the Q-value for action taken\n",
    "          q_action = tf.reduce_sum(tf.multiply(q_values, masks), axis=1)\n",
    "          # Calculate loss between new Q-value and old Q-value\n",
    "          loss = loss_function(updated_q_values, q_action)\n",
    "\n",
    "          # Backpropagation\n",
    "          grads = tape.gradient(loss, av_fun.trainable_variables)\n",
    "          optimizer.apply_gradients(zip(grads, av_fun.trainable_variables))\n",
    "          if frame_count % update_target_network == 0:\n",
    "            # update the the target network with new weights\n",
    "            target_av_fun.set_weights(av_fun.get_weights())\n",
    "      \n",
    "  # Update running reward to check condition for solving\n",
    "  episode_reward_history.append(episode_reward)\n",
    "  if len(episode_reward_history) > 100:\n",
    "      del episode_reward_history[:1]\n",
    "  running_reward = np.mean(episode_reward_history)\n",
    "\n",
    "  episode_count += 1\n",
    "  # Update running score to check condition for solving\n",
    "  general_score.append(env.score)\n",
    "  score_ep.append(env.score)\n",
    "  if len(score_ep) > 100:\n",
    "    del score_ep[:1]\n",
    "  running_score = np.mean(score_ep)\n",
    "\n",
    "  # Plotting\n",
    "  if i % 50 == 0:\n",
    "    clear_output()\n",
    "    rcParams['axes.titlepad'] = 20 \n",
    "    fig, axs = plt.subplots(2, 3,figsize=(12,10))\n",
    "    fig.suptitle('Episode: {}'.format(episode_count - 1), fontsize=16)\n",
    "    ep_history_tot.append(episode_count)\n",
    "    max_score_local_tot.append(np.amax(np.array(score_ep)))\n",
    "    score_history_tot.append(running_score)\n",
    "    reward_history_tot.append(running_reward)\n",
    "    frame_history_tot.append(frame_count)\n",
    "    general_max_history_tot.append(np.amax(np.array(general_score)))\n",
    "\n",
    "    axs[0, 0].title.set_text('Medium score / Episodes')\n",
    "    axs[0, 1].title.set_text('Cumulative rewards / Episodes')\n",
    "    axs[0,2].title.set_text('Last 100 scores distribution')\n",
    "    axs[1, 0].title.set_text('Medium score / Frames')\n",
    "    axs[1, 1].title.set_text('Cumulative rewards / Episodes')\n",
    "    axs[1,2].title.set_text('Max score over 100 scores per epochs')\n",
    "\n",
    "    axs[0, 0].plot(ep_history_tot, score_history_tot)\n",
    "    axs[0, 1].plot(ep_history_tot, reward_history_tot)\n",
    "    axs[0,2].hist(score_ep, bins=15)\n",
    "    axs[1, 0].plot(frame_history_tot, score_history_tot)\n",
    "    axs[1, 1].scatter(reward_history_tot, score_history_tot)\n",
    "    axs[1,2].plot(ep_history_tot, max_score_local_tot)\n",
    "\n",
    "    fig.tight_layout(rect=[0, 0.03, 1, 0.95])\n",
    "    plt.savefig('output.png')\n",
    "    plt.show()"
   ]
  },
  {
   "cell_type": "markdown",
   "metadata": {},
   "source": [
    "# Logging"
   ]
  },
  {
   "cell_type": "code",
   "execution_count": 7,
   "metadata": {
    "id": "4NA__fYu5ML7"
   },
   "outputs": [
    {
     "data": {
      "text/html": [
       "<div>\n",
       "<style scoped>\n",
       "    .dataframe tbody tr th:only-of-type {\n",
       "        vertical-align: middle;\n",
       "    }\n",
       "\n",
       "    .dataframe tbody tr th {\n",
       "        vertical-align: top;\n",
       "    }\n",
       "\n",
       "    .dataframe thead th {\n",
       "        text-align: right;\n",
       "    }\n",
       "</style>\n",
       "<table border=\"1\" class=\"dataframe\">\n",
       "  <thead>\n",
       "    <tr style=\"text-align: right;\">\n",
       "      <th></th>\n",
       "      <th>Episode</th>\n",
       "      <th>Score</th>\n",
       "      <th>Rewards</th>\n",
       "      <th>Max Score</th>\n",
       "      <th>FrameCount</th>\n",
       "    </tr>\n",
       "  </thead>\n",
       "  <tbody>\n",
       "    <tr>\n",
       "      <th>0</th>\n",
       "      <td>1.0</td>\n",
       "      <td>0.000000</td>\n",
       "      <td>-430.000000</td>\n",
       "      <td>0.0</td>\n",
       "      <td>15.0</td>\n",
       "    </tr>\n",
       "    <tr>\n",
       "      <th>1</th>\n",
       "      <td>51.0</td>\n",
       "      <td>0.098039</td>\n",
       "      <td>-170.784314</td>\n",
       "      <td>1.0</td>\n",
       "      <td>408.0</td>\n",
       "    </tr>\n",
       "    <tr>\n",
       "      <th>2</th>\n",
       "      <td>101.0</td>\n",
       "      <td>0.050000</td>\n",
       "      <td>-143.200000</td>\n",
       "      <td>1.0</td>\n",
       "      <td>701.0</td>\n",
       "    </tr>\n",
       "    <tr>\n",
       "      <th>3</th>\n",
       "      <td>151.0</td>\n",
       "      <td>0.040000</td>\n",
       "      <td>-114.100000</td>\n",
       "      <td>1.0</td>\n",
       "      <td>1063.0</td>\n",
       "    </tr>\n",
       "    <tr>\n",
       "      <th>4</th>\n",
       "      <td>201.0</td>\n",
       "      <td>0.070000</td>\n",
       "      <td>-111.400000</td>\n",
       "      <td>1.0</td>\n",
       "      <td>1394.0</td>\n",
       "    </tr>\n",
       "    <tr>\n",
       "      <th>...</th>\n",
       "      <td>...</td>\n",
       "      <td>...</td>\n",
       "      <td>...</td>\n",
       "      <td>...</td>\n",
       "      <td>...</td>\n",
       "    </tr>\n",
       "    <tr>\n",
       "      <th>1995</th>\n",
       "      <td>99751.0</td>\n",
       "      <td>11.640000</td>\n",
       "      <td>1313.400000</td>\n",
       "      <td>33.0</td>\n",
       "      <td>12344567.0</td>\n",
       "    </tr>\n",
       "    <tr>\n",
       "      <th>1996</th>\n",
       "      <td>99801.0</td>\n",
       "      <td>11.410000</td>\n",
       "      <td>1416.100000</td>\n",
       "      <td>33.0</td>\n",
       "      <td>12350825.0</td>\n",
       "    </tr>\n",
       "    <tr>\n",
       "      <th>1997</th>\n",
       "      <td>99851.0</td>\n",
       "      <td>12.020000</td>\n",
       "      <td>1344.100000</td>\n",
       "      <td>33.0</td>\n",
       "      <td>12358627.0</td>\n",
       "    </tr>\n",
       "    <tr>\n",
       "      <th>1998</th>\n",
       "      <td>99901.0</td>\n",
       "      <td>12.630000</td>\n",
       "      <td>533.800000</td>\n",
       "      <td>33.0</td>\n",
       "      <td>12366451.0</td>\n",
       "    </tr>\n",
       "    <tr>\n",
       "      <th>1999</th>\n",
       "      <td>99951.0</td>\n",
       "      <td>12.210000</td>\n",
       "      <td>683.400000</td>\n",
       "      <td>33.0</td>\n",
       "      <td>12373436.0</td>\n",
       "    </tr>\n",
       "  </tbody>\n",
       "</table>\n",
       "<p>2000 rows × 5 columns</p>\n",
       "</div>"
      ],
      "text/plain": [
       "      Episode      Score      Rewards  Max Score  FrameCount\n",
       "0         1.0   0.000000  -430.000000        0.0        15.0\n",
       "1        51.0   0.098039  -170.784314        1.0       408.0\n",
       "2       101.0   0.050000  -143.200000        1.0       701.0\n",
       "3       151.0   0.040000  -114.100000        1.0      1063.0\n",
       "4       201.0   0.070000  -111.400000        1.0      1394.0\n",
       "...       ...        ...          ...        ...         ...\n",
       "1995  99751.0  11.640000  1313.400000       33.0  12344567.0\n",
       "1996  99801.0  11.410000  1416.100000       33.0  12350825.0\n",
       "1997  99851.0  12.020000  1344.100000       33.0  12358627.0\n",
       "1998  99901.0  12.630000   533.800000       33.0  12366451.0\n",
       "1999  99951.0  12.210000   683.400000       33.0  12373436.0\n",
       "\n",
       "[2000 rows x 5 columns]"
      ]
     },
     "execution_count": 7,
     "metadata": {},
     "output_type": "execute_result"
    }
   ],
   "source": [
    "import pandas as pd\n",
    "stats = pd.DataFrame(np.column_stack([ep_history_tot, score_history_tot, reward_history_tot, general_max_history_tot, frame_history_tot]), \n",
    "                               columns=['Episode', 'Score', 'Rewards', 'Max Score', 'FrameCount'])\n",
    "stats.to_csv(\"output.csv\", index=False)\n",
    "stats"
   ]
  },
  {
   "cell_type": "markdown",
   "metadata": {},
   "source": [
    "# Model"
   ]
  },
  {
   "cell_type": "code",
   "execution_count": 11,
   "metadata": {
    "id": "O76EdrdI4xum",
    "scrolled": true
   },
   "outputs": [
    {
     "name": "stdout",
     "output_type": "stream",
     "text": [
      "WARNING:tensorflow:Compiled the loaded model, but the compiled metrics have yet to be built. `model.compile_metrics` will be empty until you train or evaluate the model.\n",
      "WARNING:tensorflow:Compiled the loaded model, but the compiled metrics have yet to be built. `model.compile_metrics` will be empty until you train or evaluate the model.\n"
     ]
    }
   ],
   "source": [
    "target_av_fun.save('target_snake_model.h5')\n",
    "av_fun.save('av_snake_model.h5')"
   ]
  },
  {
   "cell_type": "markdown",
   "metadata": {},
   "source": [
    "# Testing"
   ]
  },
  {
   "cell_type": "code",
   "execution_count": 15,
   "metadata": {},
   "outputs": [
    {
     "name": "stdout",
     "output_type": "stream",
     "text": [
      "Average score: 12.15 \n",
      " Variance: 50.27 \n",
      " Max Value: 27\n"
     ]
    }
   ],
   "source": [
    "list_score = []\n",
    "\n",
    "for i in range(0, 200):\n",
    "    field = Snake(12, 12)\n",
    "    st_1 = [field.generate_image().reshape(width, height)]\n",
    "    st_2 = [field.generate_image().reshape(width, height)]\n",
    "    st_3 = [field.generate_image().reshape(width, height)]\n",
    "    st_4 = [field.generate_image().reshape(width, height)]\n",
    "    while not field.end:\n",
    "        st_1 = st_2\n",
    "        st_2 = st_3 \n",
    "        st_3 = st_4\n",
    "        st_4 = [field.generate_image().reshape(width, height)]\n",
    "        st = np.vstack((st_1, st_2, st_3, st_4))\n",
    "        res = np.argmax(av_fun.predict(np.array( [st,] ))[0]) \n",
    "        field.next_move(37 + res)\n",
    "    list_score.append(field.score)\n",
    "\n",
    "print(\"Average score: {:.2f} \\n Variance: {:.2f} \\n Max Value: {}\".format(np.mean(list_score), np.var(list_score), np.max(list_score)))"
   ]
  },
  {
   "cell_type": "code",
   "execution_count": null,
   "metadata": {},
   "outputs": [],
   "source": []
  },
  {
   "cell_type": "code",
   "execution_count": null,
   "metadata": {},
   "outputs": [],
   "source": []
  }
 ],
 "metadata": {
  "accelerator": "TPU",
  "colab": {
   "collapsed_sections": [],
   "name": "Copia di Snake-Python.ipynb",
   "provenance": []
  },
  "interpreter": {
   "hash": "39f689d939d3560a0401ba9d521aaf91ecf47b8830323bfbb8b340953a0ef720"
  },
  "kernelspec": {
   "display_name": "Python 3 (ipykernel)",
   "language": "python",
   "name": "python3"
  },
  "language_info": {
   "codemirror_mode": {
    "name": "ipython",
    "version": 3
   },
   "file_extension": ".py",
   "mimetype": "text/x-python",
   "name": "python",
   "nbconvert_exporter": "python",
   "pygments_lexer": "ipython3",
   "version": "3.9.7"
  }
 },
 "nbformat": 4,
 "nbformat_minor": 1
}
